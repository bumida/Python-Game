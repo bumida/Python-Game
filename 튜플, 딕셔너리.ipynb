{
 "cells": [
  {
   "cell_type": "markdown",
   "id": "taken-temple",
   "metadata": {},
   "source": [
    "# 튜플 , 딕셔너리\n",
    "\n",
    "튜플 (tuple)\n",
    "- 리스트와 유사하나 한번 정해진 순서를 바꿀 수 없다.\n",
    "- 튜플은 값의 변경과 삭제가 불가능하다."
   ]
  },
  {
   "cell_type": "code",
   "execution_count": 1,
   "id": "amazing-customer",
   "metadata": {},
   "outputs": [],
   "source": [
    "# 튜플선언\n",
    "\n",
    "tuple1 = (1, 2, 3, 4)\n",
    "tuple2 = 1, 2, 3, 4\n",
    "list1 = [1,2,3,4]\n",
    "tuple3 = tuple(list1)"
   ]
  },
  {
   "cell_type": "markdown",
   "id": "funny-ceramic",
   "metadata": {},
   "source": [
    "# packing, unpacking\n",
    "\n",
    "packing = 하나의 변수에 여러개의 값을 넣는 것\n",
    "\n",
    "unpacking = 패킹된 변수에서 여러개의 값을 꺼내오는 것"
   ]
  },
  {
   "cell_type": "code",
   "execution_count": 2,
   "id": "collectible-point",
   "metadata": {},
   "outputs": [
    {
     "name": "stdout",
     "output_type": "stream",
     "text": [
      "1\n",
      "2\n"
     ]
    }
   ],
   "source": [
    "a, b = 1, 2\n",
    "print(a)\n",
    "print(b)"
   ]
  },
  {
   "cell_type": "code",
   "execution_count": 4,
   "id": "asian-webmaster",
   "metadata": {},
   "outputs": [
    {
     "name": "stdout",
     "output_type": "stream",
     "text": [
      "3\n",
      "4\n",
      "(3, 4)\n"
     ]
    }
   ],
   "source": [
    "# unpacking\n",
    "c = (3, 4)\n",
    "d, e = c # c의 값을 unpacking하여 d, e에 값을 넣었다.\n",
    "\n",
    "print(d)\n",
    "print(e)\n",
    "\n",
    "# packing\n",
    "f = d, e\n",
    "print(f)"
   ]
  },
  {
   "cell_type": "markdown",
   "id": "excellent-label",
   "metadata": {},
   "source": [
    "# tuple의 활용"
   ]
  },
  {
   "cell_type": "code",
   "execution_count": 6,
   "id": "wireless-harvest",
   "metadata": {},
   "outputs": [
    {
     "name": "stdout",
     "output_type": "stream",
     "text": [
      "7\n",
      "5\n",
      "1\n",
      "2\n"
     ]
    }
   ],
   "source": [
    "# 두 변수의 값을 예시대로 바꿀수 있다.\n",
    "a = 5\n",
    "b = 7\n",
    "a, b = b, a\n",
    "\n",
    "print(a)\n",
    "print(b)\n",
    "\n",
    "# 함수의 리턴 값으로 여러 값을 전달할 수 있다.\n",
    "def tuple_func():\n",
    "    return 1, 2\n",
    "\n",
    "x, y = tuple_func()\n",
    "print(x)\n",
    "print(y)"
   ]
  },
  {
   "cell_type": "code",
   "execution_count": 7,
   "id": "similar-blowing",
   "metadata": {},
   "outputs": [
    {
     "name": "stdout",
     "output_type": "stream",
     "text": [
      "index : 0 value: 1\n",
      "index : 1 value: 2\n",
      "index : 2 value: 3\n",
      "index : 3 value: 4\n",
      "index : 4 value: 5\n",
      "index : 0 value: 1\n",
      "index : 1 value: 2\n",
      "index : 2 value: 3\n",
      "index : 3 value: 4\n",
      "index : 4 value: 5\n",
      "index : 0 value: 1\n",
      "index : 1 value: 2\n",
      "index : 2 value: 3\n",
      "index : 3 value: 4\n",
      "index : 4 value: 5\n"
     ]
    }
   ],
   "source": [
    "# 리스트 반복문\n",
    "list = [1, 2, 3, 4, 5]\n",
    "for i, v in enumerate(list):\n",
    "    print('index : {} value: {}'.format(i, v))\n",
    "\n",
    "# 튜플로 복수 값을 받기 - 리스트 반복문\n",
    "list = [1, 2, 3, 4, 5]\n",
    "for t in enumerate(list):\n",
    "    print('index : {} value: {}'.format(t[0], t[1]))\n",
    "\n",
    "# 튜플을 쪼개기 - 리스트 반복문\n",
    "list = [1, 2, 3, 4, 5]\n",
    "for t in enumerate(list):\n",
    "    print('index : {} value: {}'.format(*t))\n"
   ]
  },
  {
   "cell_type": "code",
   "execution_count": 8,
   "id": "collect-consumption",
   "metadata": {},
   "outputs": [
    {
     "name": "stdout",
     "output_type": "stream",
     "text": [
      "siwa의 나이는: 22\n",
      "sunshine의 나이는: 25\n",
      "tom의 나이는: 30\n",
      "siwa의 나이는: 22\n",
      "sunshine의 나이는: 25\n",
      "tom의 나이는: 30\n",
      "siwa의 나이는: 22\n",
      "sunshine의 나이는: 25\n",
      "tom의 나이는: 30\n"
     ]
    }
   ],
   "source": [
    "# 딕셔너리 반복문\n",
    "ages = {'siwa' : 22, 'sunshine' : 25, 'tom' : 30}\n",
    "for key, val in ages.items():\n",
    "    print('{}의 나이는: {}'.format(key, val))\n",
    "\n",
    "\n",
    "# 튜플로 복수 값을 받기 - 딕셔너리 반복문\n",
    "ages = {'siwa' : 22, 'sunshine' : 25, 'tom' : 30}\n",
    "for t in ages.items():\n",
    "    print('{}의 나이는: {}'.format(t[0], t[1]))\n",
    "\n",
    "\n",
    "\n",
    "# 튜플을 쪼개기 - 딕셔너리 반복문\n",
    "ages = {'siwa' : 22, 'sunshine' : 25, 'tom' : 30}\n",
    "for t in ages.items():\n",
    "    print('{}의 나이는: {}'.format(*t))\n"
   ]
  },
  {
   "cell_type": "code",
   "execution_count": null,
   "id": "celtic-dublin",
   "metadata": {},
   "outputs": [],
   "source": []
  }
 ],
 "metadata": {
  "kernelspec": {
   "display_name": "Python 3",
   "language": "python",
   "name": "python3"
  },
  "language_info": {
   "codemirror_mode": {
    "name": "ipython",
    "version": 3
   },
   "file_extension": ".py",
   "mimetype": "text/x-python",
   "name": "python",
   "nbconvert_exporter": "python",
   "pygments_lexer": "ipython3",
   "version": "3.8.8"
  }
 },
 "nbformat": 4,
 "nbformat_minor": 5
}
