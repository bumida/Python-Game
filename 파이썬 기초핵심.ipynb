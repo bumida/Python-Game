{
 "cells": [
  {
   "cell_type": "markdown",
   "id": "large-robinson",
   "metadata": {},
   "source": [
    "#출력문"
   ]
  },
  {
   "cell_type": "code",
   "execution_count": 1,
   "id": "coordinated-chapter",
   "metadata": {},
   "outputs": [
    {
     "name": "stdout",
     "output_type": "stream",
     "text": [
      "안뇽\n"
     ]
    }
   ],
   "source": [
    "print(\"안뇽\")"
   ]
  },
  {
   "cell_type": "code",
   "execution_count": 2,
   "id": "annoying-serum",
   "metadata": {},
   "outputs": [
    {
     "name": "stdout",
     "output_type": "stream",
     "text": [
      "hello python\n"
     ]
    }
   ],
   "source": [
    "print(\"hello python\")"
   ]
  },
  {
   "cell_type": "code",
   "execution_count": 3,
   "id": "electoral-pasta",
   "metadata": {},
   "outputs": [
    {
     "name": "stdout",
     "output_type": "stream",
     "text": [
      "Hello pyton!\n"
     ]
    }
   ],
   "source": [
    "print(\"\"\"Hello pyton!\"\"\")"
   ]
  },
  {
   "cell_type": "code",
   "execution_count": 4,
   "id": "saving-shoot",
   "metadata": {},
   "outputs": [
    {
     "name": "stdout",
     "output_type": "stream",
     "text": [
      "\n"
     ]
    }
   ],
   "source": [
    "print()"
   ]
  },
  {
   "cell_type": "markdown",
   "id": "talented-arrival",
   "metadata": {},
   "source": [
    "# separtor 옵션 사용"
   ]
  },
  {
   "cell_type": "code",
   "execution_count": 6,
   "id": "conscious-syndicate",
   "metadata": {},
   "outputs": [
    {
     "name": "stdout",
     "output_type": "stream",
     "text": [
      "TEST\n"
     ]
    }
   ],
   "source": [
    "print('T', 'E', 'S', 'T', sep='')"
   ]
  },
  {
   "cell_type": "code",
   "execution_count": null,
   "id": "caroline-commonwealth",
   "metadata": {},
   "outputs": [],
   "source": []
  },
  {
   "cell_type": "code",
   "execution_count": null,
   "id": "parental-clear",
   "metadata": {},
   "outputs": [],
   "source": [
    "print('T', 'E', 'S', 'T', sep='-')"
   ]
  },
  {
   "cell_type": "markdown",
   "id": "initial-beverage",
   "metadata": {},
   "source": [
    "# end 옵션 사용"
   ]
  },
  {
   "cell_type": "code",
   "execution_count": 9,
   "id": "surface-method",
   "metadata": {},
   "outputs": [
    {
     "name": "stdout",
     "output_type": "stream",
     "text": [
      "Welocome tothe black parade "
     ]
    }
   ],
   "source": [
    "print('Welocome to', end='')\n",
    "print('the black parade', end=' ')"
   ]
  },
  {
   "cell_type": "markdown",
   "id": "answering-compiler",
   "metadata": {},
   "source": [
    "#format 사용 [] , {} , ()"
   ]
  },
  {
   "cell_type": "code",
   "execution_count": 10,
   "id": "changed-stranger",
   "metadata": {},
   "outputs": [
    {
     "name": "stdout",
     "output_type": "stream",
     "text": [
      "you and Me\n"
     ]
    }
   ],
   "source": [
    "print('{} and {}'.format('you','Me'))"
   ]
  },
  {
   "cell_type": "code",
   "execution_count": 11,
   "id": "alternative-sharing",
   "metadata": {},
   "outputs": [
    {
     "name": "stdout",
     "output_type": "stream",
     "text": [
      "The Zen of Python, by Tim Peters\n",
      "\n",
      "Beautiful is better than ugly.\n",
      "Explicit is better than implicit.\n",
      "Simple is better than complex.\n",
      "Complex is better than complicated.\n",
      "Flat is better than nested.\n",
      "Sparse is better than dense.\n",
      "Readability counts.\n",
      "Special cases aren't special enough to break the rules.\n",
      "Although practicality beats purity.\n",
      "Errors should never pass silently.\n",
      "Unless explicitly silenced.\n",
      "In the face of ambiguity, refuse the temptation to guess.\n",
      "There should be one-- and preferably only one --obvious way to do it.\n",
      "Although that way may not be obvious at first unless you're Dutch.\n",
      "Now is better than never.\n",
      "Although never is often better than *right* now.\n",
      "If the implementation is hard to explain, it's a bad idea.\n",
      "If the implementation is easy to explain, it may be a good idea.\n",
      "Namespaces are one honking great idea -- let's do more of those!\n"
     ]
    }
   ],
   "source": [
    "import this"
   ]
  },
  {
   "cell_type": "code",
   "execution_count": 12,
   "id": "surprising-brisbane",
   "metadata": {},
   "outputs": [],
   "source": [
    "import sys"
   ]
  },
  {
   "cell_type": "markdown",
   "id": "intended-wonder",
   "metadata": {},
   "source": [
    "# 파이썬 기본 인코딩"
   ]
  },
  {
   "cell_type": "code",
   "execution_count": 14,
   "id": "finnish-cradle",
   "metadata": {},
   "outputs": [
    {
     "ename": "AttributeError",
     "evalue": "'_io.TextIOWrapper' object has no attribute 'endoding'",
     "output_type": "error",
     "traceback": [
      "\u001b[1;31m---------------------------------------------------------------------------\u001b[0m",
      "\u001b[1;31mAttributeError\u001b[0m                            Traceback (most recent call last)",
      "\u001b[1;32m<ipython-input-14-6921d0220a4b>\u001b[0m in \u001b[0;36m<module>\u001b[1;34m\u001b[0m\n\u001b[1;32m----> 1\u001b[1;33m \u001b[0mprint\u001b[0m\u001b[1;33m(\u001b[0m\u001b[0msys\u001b[0m\u001b[1;33m.\u001b[0m\u001b[0mstdin\u001b[0m\u001b[1;33m.\u001b[0m\u001b[0mendoding\u001b[0m\u001b[1;33m)\u001b[0m\u001b[1;33m\u001b[0m\u001b[1;33m\u001b[0m\u001b[0m\n\u001b[0m\u001b[0;32m      2\u001b[0m \u001b[0mprint\u001b[0m\u001b[1;33m(\u001b[0m\u001b[0msys\u001b[0m\u001b[1;33m.\u001b[0m\u001b[0mstdout\u001b[0m\u001b[1;33m.\u001b[0m\u001b[0mendoding\u001b[0m\u001b[1;33m)\u001b[0m\u001b[1;33m\u001b[0m\u001b[1;33m\u001b[0m\u001b[0m\n",
      "\u001b[1;31mAttributeError\u001b[0m: '_io.TextIOWrapper' object has no attribute 'endoding'"
     ]
    }
   ],
   "source": [
    "print(sys.stdin.endoding)\n",
    "print(sys.stdout.endoding)"
   ]
  },
  {
   "cell_type": "markdown",
   "id": "fifth-transaction",
   "metadata": {},
   "source": [
    "# 출력문"
   ]
  },
  {
   "cell_type": "code",
   "execution_count": 15,
   "id": "oriented-tolerance",
   "metadata": {},
   "outputs": [
    {
     "name": "stdout",
     "output_type": "stream",
     "text": [
      "My name is Goodboy!\n"
     ]
    }
   ],
   "source": [
    "print('My name is Goodboy!')"
   ]
  },
  {
   "cell_type": "markdown",
   "id": "downtown-respect",
   "metadata": {},
   "source": [
    "# 변수 선언"
   ]
  },
  {
   "cell_type": "code",
   "execution_count": 19,
   "id": "moderate-grade",
   "metadata": {},
   "outputs": [],
   "source": [
    "myName = \"GoodBoy\""
   ]
  },
  {
   "cell_type": "code",
   "execution_count": 20,
   "id": "therapeutic-rally",
   "metadata": {},
   "outputs": [
    {
     "name": "stdout",
     "output_type": "stream",
     "text": [
      "GoodBoy\n"
     ]
    }
   ],
   "source": [
    "print(myName)"
   ]
  },
  {
   "cell_type": "markdown",
   "id": "enormous-institution",
   "metadata": {},
   "source": [
    "# 조건문"
   ]
  },
  {
   "cell_type": "code",
   "execution_count": 21,
   "id": "essential-traveler",
   "metadata": {},
   "outputs": [
    {
     "name": "stdout",
     "output_type": "stream",
     "text": [
      "ok\n"
     ]
    }
   ],
   "source": [
    "if myName == \"GoodBoy\":\n",
    "    print('ok')"
   ]
  },
  {
   "cell_type": "markdown",
   "id": "conservative-custody",
   "metadata": {},
   "source": [
    "# 반복문"
   ]
  },
  {
   "cell_type": "code",
   "execution_count": 22,
   "id": "yellow-probability",
   "metadata": {},
   "outputs": [
    {
     "name": "stdout",
     "output_type": "stream",
     "text": [
      "1 * 1 =  1\n",
      "1 * 2 =  2\n",
      "1 * 3 =  3\n",
      "1 * 4 =  4\n",
      "1 * 5 =  5\n",
      "1 * 6 =  6\n",
      "1 * 7 =  7\n",
      "1 * 8 =  8\n",
      "1 * 9 =  9\n",
      "2 * 1 =  2\n",
      "2 * 2 =  4\n",
      "2 * 3 =  6\n",
      "2 * 4 =  8\n",
      "2 * 5 =  10\n",
      "2 * 6 =  12\n",
      "2 * 7 =  14\n",
      "2 * 8 =  16\n",
      "2 * 9 =  18\n",
      "3 * 1 =  3\n",
      "3 * 2 =  6\n",
      "3 * 3 =  9\n",
      "3 * 4 =  12\n",
      "3 * 5 =  15\n",
      "3 * 6 =  18\n",
      "3 * 7 =  21\n",
      "3 * 8 =  24\n",
      "3 * 9 =  27\n",
      "4 * 1 =  4\n",
      "4 * 2 =  8\n",
      "4 * 3 =  12\n",
      "4 * 4 =  16\n",
      "4 * 5 =  20\n",
      "4 * 6 =  24\n",
      "4 * 7 =  28\n",
      "4 * 8 =  32\n",
      "4 * 9 =  36\n",
      "5 * 1 =  5\n",
      "5 * 2 =  10\n",
      "5 * 3 =  15\n",
      "5 * 4 =  20\n",
      "5 * 5 =  25\n",
      "5 * 6 =  30\n",
      "5 * 7 =  35\n",
      "5 * 8 =  40\n",
      "5 * 9 =  45\n",
      "6 * 1 =  6\n",
      "6 * 2 =  12\n",
      "6 * 3 =  18\n",
      "6 * 4 =  24\n",
      "6 * 5 =  30\n",
      "6 * 6 =  36\n",
      "6 * 7 =  42\n",
      "6 * 8 =  48\n",
      "6 * 9 =  54\n",
      "7 * 1 =  7\n",
      "7 * 2 =  14\n",
      "7 * 3 =  21\n",
      "7 * 4 =  28\n",
      "7 * 5 =  35\n",
      "7 * 6 =  42\n",
      "7 * 7 =  49\n",
      "7 * 8 =  56\n",
      "7 * 9 =  63\n",
      "8 * 1 =  8\n",
      "8 * 2 =  16\n",
      "8 * 3 =  24\n",
      "8 * 4 =  32\n",
      "8 * 5 =  40\n",
      "8 * 6 =  48\n",
      "8 * 7 =  56\n",
      "8 * 8 =  64\n",
      "8 * 9 =  72\n",
      "9 * 1 =  9\n",
      "9 * 2 =  18\n",
      "9 * 3 =  27\n",
      "9 * 4 =  36\n",
      "9 * 5 =  45\n",
      "9 * 6 =  54\n",
      "9 * 7 =  63\n",
      "9 * 8 =  72\n",
      "9 * 9 =  81\n"
     ]
    }
   ],
   "source": [
    "for i in range(1, 10):\n",
    "    for j in range(1, 10):\n",
    "        print('%d * %d = ' %(i,j), i * j)"
   ]
  },
  {
   "cell_type": "markdown",
   "id": "congressional-hospital",
   "metadata": {},
   "source": [
    "# 변수 선언(한글) - (X)"
   ]
  },
  {
   "cell_type": "code",
   "execution_count": null,
   "id": "funky-trigger",
   "metadata": {},
   "outputs": [],
   "source": []
  },
  {
   "cell_type": "markdown",
   "id": "computational-terrace",
   "metadata": {},
   "source": [
    "# 함수 선언"
   ]
  },
  {
   "cell_type": "code",
   "execution_count": 23,
   "id": "packed-border",
   "metadata": {},
   "outputs": [],
   "source": [
    "def 인사():\n",
    "    print(\"안녕하세요. 반갑습니다.\")"
   ]
  },
  {
   "cell_type": "code",
   "execution_count": 24,
   "id": "premium-scientist",
   "metadata": {},
   "outputs": [
    {
     "name": "stdout",
     "output_type": "stream",
     "text": [
      "안녕하세요. 반갑습니다.\n"
     ]
    }
   ],
   "source": [
    "인사()"
   ]
  },
  {
   "cell_type": "markdown",
   "id": "pressing-sister",
   "metadata": {},
   "source": [
    "# 클래스"
   ]
  },
  {
   "cell_type": "code",
   "execution_count": 25,
   "id": "promotional-supplier",
   "metadata": {},
   "outputs": [],
   "source": [
    "class Cookie:\n",
    "    pass\n",
    "    "
   ]
  },
  {
   "cell_type": "markdown",
   "id": "compact-sense",
   "metadata": {},
   "source": [
    "# 객체(instance) 생성\n"
   ]
  },
  {
   "cell_type": "code",
   "execution_count": 26,
   "id": "interesting-accident",
   "metadata": {},
   "outputs": [],
   "source": [
    "cookie = Cookie()"
   ]
  },
  {
   "cell_type": "code",
   "execution_count": 27,
   "id": "agricultural-xerox",
   "metadata": {},
   "outputs": [
    {
     "name": "stdout",
     "output_type": "stream",
     "text": [
      "2935239343216\n",
      "['__class__', '__delattr__', '__dict__', '__dir__', '__doc__', '__eq__', '__format__', '__ge__', '__getattribute__', '__gt__', '__hash__', '__init__', '__init_subclass__', '__le__', '__lt__', '__module__', '__ne__', '__new__', '__reduce__', '__reduce_ex__', '__repr__', '__setattr__', '__sizeof__', '__str__', '__subclasshook__', '__weakref__']\n"
     ]
    }
   ],
   "source": [
    "print(id(cookie))\n",
    "print(dir(cookie))"
   ]
  },
  {
   "cell_type": "markdown",
   "id": "hidden-baking",
   "metadata": {},
   "source": [
    "# 데이터 타입"
   ]
  },
  {
   "cell_type": "code",
   "execution_count": 29,
   "id": "happy-potential",
   "metadata": {},
   "outputs": [
    {
     "name": "stdout",
     "output_type": "stream",
     "text": [
      "<class 'tuple'>\n",
      "<class 'set'>\n",
      "<class 'float'>\n"
     ]
    }
   ],
   "source": [
    "v_str1 = \"Niceman\"\n",
    "v_bool = True\n",
    "v_str2 = \"Goodboy\"\n",
    "v_float = 10.3\n",
    "v_int = 7\n",
    "v_dict = {\n",
    "    \"name\" : \"kim\",\n",
    "    \"age\" : 25\n",
    "}\n",
    "v_list = [3, 5, 7]\n",
    "v_tuple = 3, 5, 7\n",
    "v_set = {7, 8, 9}\n",
    "\n",
    "print(type(v_tuple))\n",
    "print(type(v_set))\n",
    "print(type(v_float))"
   ]
  },
  {
   "cell_type": "code",
   "execution_count": 35,
   "id": "essential-baseline",
   "metadata": {},
   "outputs": [
    {
     "name": "stdout",
     "output_type": "stream",
     "text": [
      "36621\n",
      "77777777777777777777777777777777777762222222222222222222222222222222222223\n",
      "2.2158306445574567\n",
      "939.5\n"
     ]
    }
   ],
   "source": [
    "i1 = 39\n",
    "i2 = 939\n",
    "big_int1 = 9999999999999999999999999999999999999\n",
    "big_int2 = 7777777777777777777777777777777777777\n",
    "f1 = 1.234\n",
    "f2 = 3.784\n",
    "f3 = .5\n",
    "f4 = 10.\n",
    "\n",
    "print(i1 * i2)\n",
    "print(big_int1 * big_int2)\n",
    "print(f1 ** f2)\n",
    "print(f3 + i2)"
   ]
  },
  {
   "cell_type": "code",
   "execution_count": 36,
   "id": "eight-advocate",
   "metadata": {},
   "outputs": [
    {
     "name": "stdout",
     "output_type": "stream",
     "text": [
      "939.5 <class 'float'>\n"
     ]
    }
   ],
   "source": [
    "result = f3 + i2\n",
    "print(result, type(result))"
   ]
  },
  {
   "cell_type": "code",
   "execution_count": 37,
   "id": "fleet-disposal",
   "metadata": {},
   "outputs": [
    {
     "name": "stdout",
     "output_type": "stream",
     "text": [
      "<class 'float'> <class 'int'>\n",
      "9.0\n"
     ]
    }
   ],
   "source": [
    "a = 5.\n",
    "b = 4\n",
    "\n",
    "print(type(a), type(b))\n",
    "result2 = a + b\n",
    "print(result2)"
   ]
  },
  {
   "cell_type": "markdown",
   "id": "steady-bench",
   "metadata": {},
   "source": [
    "# 형변환\n",
    "# int, float, complex(복소수)\n"
   ]
  },
  {
   "cell_type": "code",
   "execution_count": 38,
   "id": "dangerous-yesterday",
   "metadata": {},
   "outputs": [
    {
     "name": "stdout",
     "output_type": "stream",
     "text": [
      "9\n"
     ]
    }
   ],
   "source": [
    "print(int(result2))"
   ]
  },
  {
   "cell_type": "code",
   "execution_count": 40,
   "id": "generous-shelf",
   "metadata": {},
   "outputs": [
    {
     "name": "stdout",
     "output_type": "stream",
     "text": [
      "1\n",
      "0\n",
      "3\n"
     ]
    }
   ],
   "source": [
    "print(int(True))\n",
    "print(int(False))\n",
    "print(int('3'))\n",
    "print(complex(False))"
   ]
  },
  {
   "cell_type": "markdown",
   "id": "quick-endorsement",
   "metadata": {},
   "source": [
    "# 수치 연산 함수\n",
    "# https://docs.python.org/3/library/math.html"
   ]
  },
  {
   "cell_type": "code",
   "execution_count": 43,
   "id": "higher-opera",
   "metadata": {},
   "outputs": [
    {
     "name": "stdout",
     "output_type": "stream",
     "text": [
      "7\n",
      "12 4\n"
     ]
    }
   ],
   "source": [
    "\n",
    "print(abs(-7)) # 절댓갑\n",
    "n, m = divmod(100, 8) # 몫 나머지\n",
    "print(n, m)"
   ]
  },
  {
   "cell_type": "code",
   "execution_count": 44,
   "id": "surprised-philip",
   "metadata": {},
   "outputs": [],
   "source": [
    "import math"
   ]
  },
  {
   "cell_type": "code",
   "execution_count": 46,
   "id": "infinite-irish",
   "metadata": {
    "scrolled": true
   },
   "outputs": [
    {
     "name": "stdout",
     "output_type": "stream",
     "text": [
      "6\n",
      "3\n"
     ]
    }
   ],
   "source": [
    "print(math.ceil(5.1))\n",
    "print(math.floor(3.874))"
   ]
  },
  {
   "cell_type": "markdown",
   "id": "jewish-release",
   "metadata": {},
   "source": [
    "# 문자열, 문자열 연산, 슬라이싱"
   ]
  },
  {
   "cell_type": "code",
   "execution_count": 2,
   "id": "proprietary-behalf",
   "metadata": {},
   "outputs": [
    {
     "name": "stdout",
     "output_type": "stream",
     "text": [
      "9 7 0 3\n"
     ]
    }
   ],
   "source": [
    "str1 = \"I am Boy.\"\n",
    "str2 = \"NiceMan\"\n",
    "str3 = ''\n",
    "str4 = str('ace')\n",
    "\n",
    "print(len(str1), len(str2), len(str3), len(str4)) # 문자열길이"
   ]
  },
  {
   "cell_type": "code",
   "execution_count": 5,
   "id": "dependent-shuttle",
   "metadata": {},
   "outputs": [
    {
     "name": "stdout",
     "output_type": "stream",
     "text": [
      "Do you have a \"big collection\"\n",
      "Tab \t Tat \\T\n"
     ]
    }
   ],
   "source": [
    "escape_str1 = \"Do you have a \\\"big collection\\\"\"\n",
    "print(escape_str1)\n",
    "escape_str2 = \"Tab \\t Tat \\T\"\n",
    "print(escape_str2)"
   ]
  },
  {
   "cell_type": "markdown",
   "id": "compound-treasure",
   "metadata": {},
   "source": [
    "# Raw String"
   ]
  },
  {
   "cell_type": "code",
   "execution_count": 6,
   "id": "growing-orbit",
   "metadata": {},
   "outputs": [
    {
     "name": "stdout",
     "output_type": "stream",
     "text": [
      "C:\\Programs\\Test\\Bin\n"
     ]
    }
   ],
   "source": [
    "raw_s1 = r'C:\\Programs\\Test\\Bin'  # r 있는그대로 나옴\n",
    "print(raw_s1)"
   ]
  },
  {
   "cell_type": "markdown",
   "id": "marine-infrastructure",
   "metadata": {},
   "source": [
    "# 멀티라인"
   ]
  },
  {
   "cell_type": "code",
   "execution_count": 8,
   "id": "final-citation",
   "metadata": {},
   "outputs": [
    {
     "name": "stdout",
     "output_type": "stream",
     "text": [
      "\n",
      "문자열\n",
      "멀티라인 \n",
      "테스트\n",
      "\n"
     ]
    }
   ],
   "source": [
    "multi = \\\n",
    "\"\"\"\n",
    "문자열\n",
    "멀티라인 \n",
    "테스트\n",
    "\"\"\"\n",
    "print(multi)"
   ]
  },
  {
   "cell_type": "markdown",
   "id": "offensive-television",
   "metadata": {},
   "source": [
    "# 문자열 연산"
   ]
  },
  {
   "cell_type": "code",
   "execution_count": 12,
   "id": "historical-description",
   "metadata": {},
   "outputs": [
    {
     "name": "stdout",
     "output_type": "stream",
     "text": [
      "****************************************************************************************************\n",
      "abcNiceman\n",
      "True\n",
      "False\n"
     ]
    }
   ],
   "source": [
    "str_o1 = '*'\n",
    "str_o2 = 'abc'\n",
    "str_o3 = \"Niceman\"\n",
    "\n",
    "print(str_o1 * 100)\n",
    "print(str_o2 + str_o3)\n",
    "print('a' in str_o3)  # 'a'가 문자열에 포함되어있는지 확인\n",
    "print('a' not in str_o3) # 'a'가 문자열에 포함안되어있는지 확인\n"
   ]
  },
  {
   "cell_type": "markdown",
   "id": "beautiful-netscape",
   "metadata": {},
   "source": [
    "# 문자열 형 변환"
   ]
  },
  {
   "cell_type": "code",
   "execution_count": 13,
   "id": "unlike-stage",
   "metadata": {},
   "outputs": [
    {
     "name": "stdout",
     "output_type": "stream",
     "text": [
      "77a\n",
      "10.4\n"
     ]
    }
   ],
   "source": [
    "print(str(77) + 'a')\n",
    "print(str(10.4))"
   ]
  },
  {
   "cell_type": "markdown",
   "id": "increasing-satisfaction",
   "metadata": {},
   "source": [
    "# 문자열 함수\n",
    "# 참고 : https://www.w3schools.com/python/python_ref_string.asp"
   ]
  },
  {
   "cell_type": "code",
   "execution_count": 17,
   "id": "dynamic-family",
   "metadata": {},
   "outputs": [
    {
     "name": "stdout",
     "output_type": "stream",
     "text": [
      "True\n",
      "False\n",
      "Niceman\n",
      "goodman\n",
      "['e', 'g', 'n', 'a', 'r', 'o']\n"
     ]
    }
   ],
   "source": [
    "a = 'niceman'\n",
    "b = 'orange'\n",
    "\n",
    "print(a.islower()) #소문자로 되어있니?\n",
    "print(a.endswith('s')) #끝글자가 s로 끝나니?\n",
    "print(a.capitalize()) #첫글자를 대문자로 바꿔준다\n",
    "print(a.replace('nice', 'good')) #nice를 good로 바꿔줌\n",
    "print(list(reversed(b))) # 거꾸로 list배열해서 바꿔줌"
   ]
  },
  {
   "cell_type": "code",
   "execution_count": 21,
   "id": "genuine-engine",
   "metadata": {},
   "outputs": [
    {
     "name": "stdout",
     "output_type": "stream",
     "text": [
      "app\n",
      "appl\n",
      "apple\n",
      "appl\n",
      "apple\n",
      "bn\n"
     ]
    }
   ],
   "source": [
    "a = 'apple'\n",
    "b = 'banana'\n",
    "\n",
    "print(a[0:3])\n",
    "print(a[0:4])\n",
    "print(a[0:len(a)])\n",
    "print(a[:4])\n",
    "print(a[:])\n",
    "print(b[0:4:2])"
   ]
  },
  {
   "cell_type": "markdown",
   "id": "meaningful-strand",
   "metadata": {},
   "source": [
    "# 파이썬 데이터 타입(자료형)\n",
    "# 리스트, 튜플\n",
    "\n",
    "# 리스트(순서o, 중복o, 수정o, 삭제o)\n",
    "# 선언 (암기)"
   ]
  },
  {
   "cell_type": "code",
   "execution_count": 22,
   "id": "beneficial-learning",
   "metadata": {},
   "outputs": [],
   "source": [
    "a = []\n",
    "b = list()\n",
    "c = [1, 2, 3, 4]\n",
    "d = [10, 100, 'pen', 'banana', 'Orange']\n",
    "e = [10, 100, ['pen', 'banana', 'Orange']]  "
   ]
  },
  {
   "cell_type": "markdown",
   "id": "adolescent-humidity",
   "metadata": {},
   "source": [
    "# 인덱싱"
   ]
  },
  {
   "cell_type": "code",
   "execution_count": 23,
   "id": "prompt-requirement",
   "metadata": {},
   "outputs": [
    {
     "name": "stdout",
     "output_type": "stream",
     "text": [
      "banan\n",
      "banan\n",
      "110\n",
      "banan\n"
     ]
    }
   ],
   "source": [
    "print(d[3])\n",
    "print(d[-2])\n",
    "print(d[0]+d[1])\n",
    "print(e[2][1])"
   ]
  },
  {
   "cell_type": "markdown",
   "id": "human-appearance",
   "metadata": {},
   "source": [
    "# 슬라이싱"
   ]
  },
  {
   "cell_type": "code",
   "execution_count": 26,
   "id": "federal-showcase",
   "metadata": {},
   "outputs": [
    {
     "name": "stdout",
     "output_type": "stream",
     "text": [
      "[10, 100, 'pen']\n",
      "[10, 100]\n",
      "['banan', 'Orange']\n"
     ]
    }
   ],
   "source": [
    "print(d[0:3])\n",
    "print(d[0:2])\n",
    "print(e[2][1:3])"
   ]
  },
  {
   "cell_type": "markdown",
   "id": "unlike-check",
   "metadata": {},
   "source": [
    "# 연산"
   ]
  },
  {
   "cell_type": "code",
   "execution_count": 30,
   "id": "partial-boston",
   "metadata": {},
   "outputs": [
    {
     "name": "stdout",
     "output_type": "stream",
     "text": [
      "[1, 2, 3, 4, 10, 100, 'pen', 'banan', 'Orange']\n",
      "[1, 2, 3, 4, 1, 2, 3, 4, 1, 2, 3, 4]\n",
      "1hi\n"
     ]
    }
   ],
   "source": [
    "print(c + d)\n",
    "print(c * 3)\n",
    "print(str(c[0])+'hi')"
   ]
  },
  {
   "cell_type": "markdown",
   "id": "spread-liabilities",
   "metadata": {},
   "source": [
    "# 리스트 수정, 삭제"
   ]
  },
  {
   "cell_type": "code",
   "execution_count": 34,
   "id": "solid-respect",
   "metadata": {},
   "outputs": [
    {
     "name": "stdout",
     "output_type": "stream",
     "text": [
      "[77, 1000, 10000, 1000, 10000, 1000, 10000, 3, 4]\n",
      "[77, 100, 1000, 10000, 10000, 1000, 10000, 1000, 10000, 3, 4]\n",
      "[77, ['a', 'b', 'c'], 1000, 10000, 10000, 1000, 10000, 1000, 10000, 3, 4]\n",
      "[77, 1000, 10000, 10000, 1000, 10000, 1000, 10000, 3, 4]\n",
      "[77, 1000, 10000, 10000, 1000, 10000, 1000, 10000, 3]\n"
     ]
    }
   ],
   "source": [
    "c[0] = 77\n",
    "print(c)\n",
    "\n",
    "c[1:2] = [100, 1000, 10000]\n",
    "print(c)\n",
    "c[1] = ['a', 'b', 'c']\n",
    "print(c)\n",
    "\n",
    "del c[1]\n",
    "print(c)\n",
    "del c[-1]\n",
    "print(c)"
   ]
  },
  {
   "cell_type": "markdown",
   "id": "affiliated-toddler",
   "metadata": {},
   "source": [
    "# 리스트 함수"
   ]
  },
  {
   "cell_type": "code",
   "execution_count": 41,
   "id": "external-panama",
   "metadata": {},
   "outputs": [
    {
     "name": "stdout",
     "output_type": "stream",
     "text": [
      "[5, 2, 3, 1, 4]\n",
      "[5, 2, 3, 1, 4, 6]\n",
      "[1, 2, 3, 4, 5, 6]\n",
      "[6, 5, 4, 3, 2, 1]\n",
      "[6, 5, 7, 4, 3, 2, 1]\n",
      "[6, 5, 7, 4, 3, 1]\n",
      "[6, 5, 7, 4, 3, 88, 77]\n"
     ]
    }
   ],
   "source": [
    "y = [5,2,3,1,4]\n",
    "print(y)\n",
    "y.append(6) #추가\n",
    "print(y)\n",
    "y.sort() #오름차순정렬\n",
    "print(y)\n",
    "y.reverse()\n",
    "print(y)\n",
    "y.insert(2,7)\n",
    "print(y)\n",
    "y.remove(2) #숫자 2를 찾아서 삭제 del index값삭제\n",
    "print(y)\n",
    "y.pop() # 맨마지막에 있는 원소를 삭제(LIFO)\n",
    "\n",
    "ex = [88,77]\n",
    "y.extend(ex) # append 리스트자체를 삽입\n",
    "print(y)"
   ]
  },
  {
   "cell_type": "markdown",
   "id": "acting-coordinator",
   "metadata": {},
   "source": [
    "# 삭제 : del, remove, pop"
   ]
  },
  {
   "cell_type": "markdown",
   "id": "featured-horizontal",
   "metadata": {},
   "source": [
    "# 튜플 (순서o, 중복o, 수정x, 삭제x)"
   ]
  },
  {
   "cell_type": "code",
   "execution_count": 44,
   "id": "antique-atmosphere",
   "metadata": {},
   "outputs": [
    {
     "ename": "TypeError",
     "evalue": "'tuple' object doesn't support item deletion",
     "output_type": "error",
     "traceback": [
      "\u001b[1;31m---------------------------------------------------------------------------\u001b[0m",
      "\u001b[1;31mTypeError\u001b[0m                                 Traceback (most recent call last)",
      "\u001b[1;32m<ipython-input-44-f9c4bc9e7eb5>\u001b[0m in \u001b[0;36m<module>\u001b[1;34m\u001b[0m\n\u001b[0;32m      3\u001b[0m \u001b[0mc\u001b[0m \u001b[1;33m=\u001b[0m \u001b[1;33m(\u001b[0m\u001b[1;36m1\u001b[0m\u001b[1;33m,\u001b[0m \u001b[1;36m2\u001b[0m\u001b[1;33m,\u001b[0m \u001b[1;36m3\u001b[0m\u001b[1;33m,\u001b[0m \u001b[1;36m4\u001b[0m\u001b[1;33m)\u001b[0m\u001b[1;33m\u001b[0m\u001b[1;33m\u001b[0m\u001b[0m\n\u001b[0;32m      4\u001b[0m \u001b[1;33m\u001b[0m\u001b[0m\n\u001b[1;32m----> 5\u001b[1;33m \u001b[1;32mdel\u001b[0m \u001b[0mc\u001b[0m\u001b[1;33m[\u001b[0m\u001b[1;36m2\u001b[0m\u001b[1;33m]\u001b[0m \u001b[1;31m# 튜플은 삭제할수없다\u001b[0m\u001b[1;33m\u001b[0m\u001b[1;33m\u001b[0m\u001b[0m\n\u001b[0m",
      "\u001b[1;31mTypeError\u001b[0m: 'tuple' object doesn't support item deletion"
     ]
    }
   ],
   "source": [
    "a = ()\n",
    "b = (1,)\n",
    "c = (1, 2, 3, 4)\n",
    "d = (10, 100, ('a', 'b', 'c'))\n",
    "\n",
    "del c[2] # 튜플은 삭제할수없다"
   ]
  },
  {
   "cell_type": "code",
   "execution_count": 49,
   "id": "eastern-north",
   "metadata": {},
   "outputs": [
    {
     "name": "stdout",
     "output_type": "stream",
     "text": [
      "3\n",
      "4\n",
      "e\n",
      "['pen', 'banan', 'Orange']\n",
      "pe\n"
     ]
    }
   ],
   "source": [
    "print(c[2])\n",
    "print(c[3])\n",
    "print(d[2][1])\n",
    "\n",
    "print(d[2:])\n",
    "print(d[2][0:2])\n",
    "\n"
   ]
  },
  {
   "cell_type": "markdown",
   "id": "small-creator",
   "metadata": {},
   "source": [
    "# 튜플 함수"
   ]
  },
  {
   "cell_type": "code",
   "execution_count": 52,
   "id": "coupled-northwest",
   "metadata": {},
   "outputs": [
    {
     "name": "stdout",
     "output_type": "stream",
     "text": [
      "(5, 2, 1, 3, 4)\n",
      "True\n",
      "0\n",
      "1\n"
     ]
    }
   ],
   "source": [
    "z = (5, 2, 1, 3, 4)\n",
    "\n",
    "print(z)\n",
    "print(3 in z) # 3은 z튜플안에 있나여?\n",
    "print(z.index(5)) # 찾고자하는 index값을 반환\n",
    "print(z.count(1)) # z 튜플에서 1은 몇개가 있어?\n"
   ]
  },
  {
   "cell_type": "code",
   "execution_count": null,
   "id": "shared-coffee",
   "metadata": {},
   "outputs": [],
   "source": []
  }
 ],
 "metadata": {
  "kernelspec": {
   "display_name": "Python 3",
   "language": "python",
   "name": "python3"
  },
  "language_info": {
   "codemirror_mode": {
    "name": "ipython",
    "version": 3
   },
   "file_extension": ".py",
   "mimetype": "text/x-python",
   "name": "python",
   "nbconvert_exporter": "python",
   "pygments_lexer": "ipython3",
   "version": "3.8.8"
  }
 },
 "nbformat": 4,
 "nbformat_minor": 5
}
